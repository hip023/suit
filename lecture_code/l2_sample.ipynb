{
 "cells": [
  {
   "cell_type": "markdown",
   "source": [
    "<img src=\"../assets/headline.png\" alt=\"headline\"></a>\n",
    "\n",
    "## Preprocessing, Lecture 2.2\n",
    "\n",
    "## SUIT: Sampling\n",
    "\n",
    "Lecture 2, November 9th, 2022"
   ],
   "metadata": {
    "collapsed": false
   }
  },
  {
   "cell_type": "code",
   "execution_count": null,
   "outputs": [],
   "source": [
    "import pandas as pd\n",
    "from utilities.plot_ts import plot_series"
   ],
   "metadata": {
    "collapsed": false
   }
  },
  {
   "cell_type": "code",
   "execution_count": null,
   "outputs": [],
   "source": [
    "followers = pd.read_csv('../data/followers.csv')\n",
    "followers['datetime'] = pd.to_datetime(followers['datetime'])\n",
    "followers.set_index('datetime',inplace=True)\n",
    "print(\"This is a cumulative dataset\")\n",
    "plot_series(followers['followers'].loc['2022-01'], fig_length=2)"
   ],
   "metadata": {
    "collapsed": false
   }
  },
  {
   "cell_type": "code",
   "execution_count": null,
   "outputs": [],
   "source": [
    "views = pd.read_csv('../data/daily_tiktok_views.csv')\n",
    "views['datetime'] = pd.to_datetime(views['datetime'])\n",
    "views.set_index('datetime',inplace=True)\n",
    "print(\"This is a deltas dataset\")\n",
    "plot_series(views['views'].loc['2022'], fig_length=2)\n",
    "del views"
   ],
   "metadata": {
    "collapsed": false
   }
  },
  {
   "cell_type": "code",
   "execution_count": null,
   "outputs": [],
   "source": [
    "events = pd.read_csv('../data/tiktok_events.csv')\n",
    "events['datetime'] = pd.to_datetime(events['datetime'])\n",
    "events.set_index('datetime',inplace=True)\n",
    "print(\"This is an events dataset\")\n",
    "plot_series(events['views'].loc['2022-01-01'], fig_length=2)"
   ],
   "metadata": {
    "collapsed": false
   }
  },
  {
   "cell_type": "code",
   "execution_count": null,
   "outputs": [],
   "source": [
    "# followers head\n",
    "followers.head(30)"
   ],
   "metadata": {
    "collapsed": false
   }
  },
  {
   "cell_type": "markdown",
   "source": [
    "## Downsample\n",
    "`series.asfreq(freq)`\n",
    "\n",
    "[All frequencies](https://pandas.pydata.org/pandas-docs/stable/user_guide/timeseries.html#offset-aliases)"
   ],
   "metadata": {
    "collapsed": false
   }
  },
  {
   "cell_type": "code",
   "execution_count": null,
   "outputs": [],
   "source": [
    "# downsample to 1D\n",
    "followers.asfreq('1D').ffill()\n"
   ],
   "metadata": {
    "collapsed": false
   }
  },
  {
   "cell_type": "code",
   "execution_count": null,
   "outputs": [],
   "source": [
    "del followers"
   ],
   "metadata": {
    "collapsed": false
   }
  },
  {
   "cell_type": "markdown",
   "source": [
    "## Resample\n",
    "`df.resample('1D').aggregate(...)`"
   ],
   "metadata": {
    "collapsed": false
   }
  },
  {
   "cell_type": "code",
   "execution_count": null,
   "outputs": [],
   "source": [
    "# events head\n",
    "events.head(30)"
   ],
   "metadata": {
    "collapsed": false
   }
  },
  {
   "cell_type": "code",
   "execution_count": null,
   "outputs": [],
   "source": [
    "# asfreq won't work here\n",
    "events.asfreq('1D')"
   ],
   "metadata": {
    "collapsed": false
   }
  },
  {
   "cell_type": "code",
   "execution_count": null,
   "outputs": [],
   "source": [
    "# This is even worse, because we get only the first observation of each date!\n",
    "events.reset_index().drop_duplicates(subset='datetime').set_index('datetime').asfreq('1D')"
   ],
   "metadata": {
    "collapsed": false
   }
  },
  {
   "cell_type": "code",
   "execution_count": null,
   "outputs": [],
   "source": [
    "# We already group in pandas!\n",
    "events.groupby('city').views.count()"
   ],
   "metadata": {
    "collapsed": false
   }
  },
  {
   "cell_type": "code",
   "execution_count": null,
   "outputs": [],
   "source": [
    "# It can get more complex!\n",
    "events.groupby('city').aggregate(\n",
    "    views=(\"views\", \"count\"),\n",
    "    likes_ratio=(\"likes\", lambda x: sum(x) / len(x))\n",
    ")"
   ],
   "metadata": {
    "collapsed": false
   }
  },
  {
   "cell_type": "code",
   "execution_count": null,
   "outputs": [],
   "source": [
    "# We can group by date too!\n",
    "events.resample('1M')[['views','likes']].sum()"
   ],
   "metadata": {
    "collapsed": false
   }
  },
  {
   "cell_type": "code",
   "execution_count": null,
   "outputs": [],
   "source": [
    "# This is non-informative\n",
    "plot_series(events['views'].loc['2022-01-01'], fig_length=2)"
   ],
   "metadata": {
    "collapsed": false
   }
  },
  {
   "cell_type": "code",
   "execution_count": null,
   "outputs": [],
   "source": [
    "# This is very informative\n",
    "plot_series(events.resample('1D').views.sum(), fig_length=2)"
   ],
   "metadata": {
    "collapsed": false
   }
  },
  {
   "cell_type": "code",
   "execution_count": null,
   "outputs": [],
   "source": [
    "del events"
   ],
   "metadata": {
    "collapsed": false
   }
  }
 ],
 "metadata": {
  "kernelspec": {
   "display_name": "Python 3",
   "language": "python",
   "name": "python3"
  },
  "language_info": {
   "codemirror_mode": {
    "name": "ipython",
    "version": 2
   },
   "file_extension": ".py",
   "mimetype": "text/x-python",
   "name": "python",
   "nbconvert_exporter": "python",
   "pygments_lexer": "ipython2",
   "version": "2.7.6"
  }
 },
 "nbformat": 4,
 "nbformat_minor": 0
}
