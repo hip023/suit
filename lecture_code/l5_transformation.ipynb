{
 "cells": [
  {
   "cell_type": "markdown",
   "source": [
    "<img src=\"../assets/headline.png\" alt=\"headline\"></a>\n",
    "\n",
    "## Preprocessing, Lecture 2.5\n",
    "\n",
    "## SUIT: Transformation\n",
    "\n",
    "Lecture 2, November 9th, 2022"
   ],
   "metadata": {
    "collapsed": false
   }
  },
  {
   "cell_type": "code",
   "execution_count": null,
   "outputs": [],
   "source": [
    "from statsmodels.tsa.stattools import adfuller\n",
    "import pandas as pd\n",
    "from utilities.plot_ts import plot_series"
   ],
   "metadata": {
    "collapsed": false
   }
  },
  {
   "cell_type": "code",
   "execution_count": null,
   "outputs": [],
   "source": [
    "events = pd.read_csv('../data/tiktok_events.csv')\n",
    "events['datetime'] = pd.to_datetime(events['datetime'])\n",
    "events.set_index('datetime',inplace=True)\n",
    "events.head()"
   ],
   "metadata": {
    "collapsed": false
   }
  },
  {
   "cell_type": "code",
   "execution_count": null,
   "outputs": [],
   "source": [
    "groupers = [pd.Grouper(freq='1D'),'city']\n",
    "\n",
    "likes = events.groupby(groupers).views.sum().unstack()\n",
    "\n",
    "likes"
   ],
   "metadata": {
    "collapsed": false
   }
  },
  {
   "cell_type": "code",
   "execution_count": null,
   "outputs": [],
   "source": [
    "# plot likes over time from different cities\n",
    "plot_series(likes['kadima'], likes['ramat-gan'], likes['rishon'], likes['tel-aviv'])"
   ],
   "metadata": {
    "collapsed": false
   }
  },
  {
   "cell_type": "code",
   "execution_count": null,
   "outputs": [],
   "source": [
    "# plot the difference in tel-aviv\n",
    "plot_series(likes['tel-aviv'].diff())"
   ],
   "metadata": {
    "collapsed": false
   }
  },
  {
   "cell_type": "markdown",
   "source": [
    "# Augmented Dickey-Fuller test\n",
    "\n",
    "### Stationary Data\n",
    "<img src=\"../assets/adf_stationary.png\" alt=\"statioary\"></a>\n",
    "\n",
    "The unconditional joint probability distribution does not change when shifted in time\n",
    "E.g. mean and variance are constant\n",
    "\n",
    "\n",
    "### Non-Stationary Data\n",
    "<img src=\"../assets/adf_not_stationary.png\" alt=\"not statioary\"></a>\n",
    "\n",
    "The unconditional joint probability distribution change when shifted in time\n",
    "E.g. either mean or variance are not constant\n",
    "\n",
    "### ADF Test\n",
    "\n",
    "<a href=https://en.wikipedia.org/wiki/Augmented_Dickey%E2%80%93Fuller_test>ADF Wiki</a>\n",
    "\n",
    "A statistical test to provide us with stationary results.\n",
    "\n",
    "Null-Hypothesis: Data is not stationary\n",
    "\n",
    "Alternative-Hypothesis: Data is stationary\n",
    "\n",
    "Python: Statsmodels.tsa.stattools import adfuller\n",
    "\n",
    "\n",
    "\n"
   ],
   "metadata": {
    "collapsed": false
   }
  },
  {
   "cell_type": "code",
   "execution_count": null,
   "outputs": [],
   "source": [
    "# import adfuller\n",
    "from statsmodels.tsa.stattools import adfuller"
   ],
   "metadata": {
    "collapsed": false
   }
  },
  {
   "cell_type": "code",
   "execution_count": null,
   "outputs": [],
   "source": [
    "# likes over time from tel-aviv\n",
    "likes['tel-aviv']"
   ],
   "metadata": {
    "collapsed": false
   }
  },
  {
   "cell_type": "code",
   "execution_count": null,
   "outputs": [],
   "source": [
    "# plot it\n",
    "plot_series(likes['tel-aviv'])"
   ],
   "metadata": {
    "collapsed": false
   }
  },
  {
   "cell_type": "code",
   "execution_count": null,
   "outputs": [],
   "source": [
    "# calculate ad fuller test on tel-aviv likes\n",
    "adfuller(likes['tel-aviv'])"
   ],
   "metadata": {
    "collapsed": false
   }
  },
  {
   "cell_type": "code",
   "execution_count": null,
   "outputs": [],
   "source": [
    "# generalize our null hypothesis rule\n",
    "adf = adfuller(likes['tel-aviv'])\n",
    "\n",
    "if adf[0] < adf[4].get('5%'):\n",
    "    print(\"data is stationary\")\n",
    "else:\n",
    "    print(\"data is not stationary\")"
   ],
   "metadata": {
    "collapsed": false
   }
  },
  {
   "cell_type": "code",
   "execution_count": null,
   "outputs": [],
   "source": [
    "# Is it just about the trend?\n",
    "likes_diff = likes['tel-aviv'].diff().dropna()\n",
    "likes_diff"
   ],
   "metadata": {
    "collapsed": false
   }
  },
  {
   "cell_type": "code",
   "execution_count": null,
   "outputs": [],
   "source": [
    "# plot it\n",
    "plot_series(likes_diff)"
   ],
   "metadata": {
    "collapsed": false
   }
  },
  {
   "cell_type": "code",
   "execution_count": null,
   "outputs": [],
   "source": [
    "# run another adf test\n",
    "adf = adfuller(likes_diff)\n",
    "is_stationary = adf[0] < adf[4].get('5%')\n",
    "\n",
    "if is_stationary: print(\"data is stationary\")\n",
    "else: print(\"data is not stationary\")"
   ],
   "metadata": {
    "collapsed": false
   }
  },
  {
   "cell_type": "code",
   "execution_count": null,
   "outputs": [],
   "source": [
    "# why is likes ratio dropping?\n",
    "\n",
    "resampler = events.resample('7D').aggregate(\n",
    "    likes=(\"likes\", lambda x: sum(x) / len(x))\n",
    ")\n",
    "\n",
    "plot_series(resampler[\"likes\"])\n"
   ],
   "metadata": {
    "collapsed": false
   }
  },
  {
   "cell_type": "code",
   "execution_count": null,
   "outputs": [],
   "source": [
    "del events"
   ],
   "metadata": {
    "collapsed": false
   }
  }
 ],
 "metadata": {
  "kernelspec": {
   "display_name": "Python 3",
   "language": "python",
   "name": "python3"
  },
  "language_info": {
   "codemirror_mode": {
    "name": "ipython",
    "version": 2
   },
   "file_extension": ".py",
   "mimetype": "text/x-python",
   "name": "python",
   "nbconvert_exporter": "python",
   "pygments_lexer": "ipython2",
   "version": "2.7.6"
  }
 },
 "nbformat": 4,
 "nbformat_minor": 0
}
