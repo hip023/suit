{
 "cells": [
  {
   "cell_type": "markdown",
   "source": [
    "<img src=\"../assets/headline.png\" alt=\"headline\"></a>\n",
    "\n",
    "## Preprocessing, Lecture 2.4\n",
    "\n",
    "## SUIT: Isolation\n",
    "\n",
    "Lecture 2, November 9th, 2022"
   ],
   "metadata": {
    "collapsed": false
   }
  },
  {
   "cell_type": "code",
   "execution_count": null,
   "outputs": [],
   "source": [
    "import pandas as pd"
   ],
   "metadata": {
    "collapsed": false
   }
  },
  {
   "cell_type": "code",
   "execution_count": null,
   "outputs": [],
   "source": [
    "# Run this cell if you haven't downloaded tiktok events yet\n",
    "# events\n",
    "! pipenv run kaggle datasets download hilapaz/tiktokevents\n",
    "! mv tiktokevents.zip ../data/tiktokevents.zip\n",
    "! unzip ../data/tiktokevents.zip\n",
    "! mv tiktok_events.csv ../data/tiktok_events.csv\n",
    "! rm ../data/tiktokevents.zip"
   ],
   "metadata": {
    "collapsed": false
   }
  },
  {
   "cell_type": "code",
   "execution_count": null,
   "outputs": [],
   "source": [
    "events = pd.read_csv('../data/tiktok_events.csv')\n",
    "events['datetime'] = pd.to_datetime(events['datetime'])\n",
    "events.set_index('datetime',inplace=True)\n",
    "events.head()"
   ],
   "metadata": {
    "collapsed": false
   }
  },
  {
   "cell_type": "code",
   "execution_count": null,
   "outputs": [],
   "source": [
    "events.resample('1D')\n",
    "events.groupby(pd.Grouper(freq='1D'))"
   ],
   "metadata": {
    "collapsed": false
   }
  },
  {
   "cell_type": "code",
   "execution_count": null,
   "outputs": [],
   "source": [
    "events.groupby([pd.Grouper(freq='1D'), 'city'])"
   ],
   "metadata": {
    "collapsed": false
   }
  },
  {
   "cell_type": "code",
   "execution_count": null,
   "outputs": [],
   "source": [
    "events.groupby([pd.Grouper(freq='1D'), 'city']).views.sum()"
   ],
   "metadata": {
    "collapsed": false
   }
  },
  {
   "cell_type": "code",
   "execution_count": null,
   "outputs": [],
   "source": [
    "events.groupby([pd.Grouper(freq='1D'), 'city']).views.sum().unstack()"
   ],
   "metadata": {
    "collapsed": false
   }
  },
  {
   "cell_type": "code",
   "execution_count": null,
   "outputs": [],
   "source": [
    "del events"
   ],
   "metadata": {
    "collapsed": false
   }
  }
 ],
 "metadata": {
  "kernelspec": {
   "display_name": "Python 3",
   "language": "python",
   "name": "python3"
  },
  "language_info": {
   "codemirror_mode": {
    "name": "ipython",
    "version": 2
   },
   "file_extension": ".py",
   "mimetype": "text/x-python",
   "name": "python",
   "nbconvert_exporter": "python",
   "pygments_lexer": "ipython2",
   "version": "2.7.6"
  }
 },
 "nbformat": 4,
 "nbformat_minor": 0
}
