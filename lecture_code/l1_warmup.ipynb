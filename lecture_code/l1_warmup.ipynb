{
 "cells": [
  {
   "cell_type": "markdown",
   "source": [
    "<img src=\"../assets/headline.png\" alt=\"headline\"></a>\n",
    "\n",
    "## Preprocessing, Lecture 2.1\n",
    "\n",
    "## SUIT: Warmup\n",
    "\n",
    "Lecture 2, November 9th, 2022"
   ],
   "metadata": {
    "collapsed": false
   }
  },
  {
   "cell_type": "markdown",
   "source": [
    "# 1.0 Setup\n",
    "Let's set up our working environment\n",
    "\n",
    "## 1.0.1\n",
    "Use a pipenv interpreter with python3.9 as described in the README.md file"
   ],
   "metadata": {
    "collapsed": false
   }
  },
  {
   "cell_type": "markdown",
   "source": [
    "## 1.0.2 Kaggle Authentication\n",
    "\n",
    "1. Go to [Kaggle](https://www.kaggle.com/)\n",
    "\n",
    "2. Click on your profile (upper right icon), then click on \"Your Account\"\n",
    "\n",
    "3. Click on \"Acccount\" in the upper menu\n",
    "<img src=\"../assets/kaggle_profile.png\" alt=\"kaggle_profile\"></a>\n",
    "\n",
    "\n",
    "4. Scroll down to the \"API\" section, and click on \"get api token\".\n",
    "<img src=\"../assets/kaggle_api.png\" alt=\"kaggle_api\"></a>\n",
    "\n",
    "\n",
    "Make sure that the name of the downloaded file is kaggle.json (if it's not - rename it :) )\n",
    "\n",
    "5. Upload the kaggle.json file to the working directory of the exercise folder - and that's it! you're good to go.\n",
    "\n",
    "<img src=\"../assets/kaggle_json.png\" alt=\"kaggle_json\"></a>\n"
   ],
   "metadata": {
    "collapsed": false
   }
  },
  {
   "cell_type": "code",
   "execution_count": null,
   "outputs": [],
   "source": [
    "# Run the following cell to collect the first exercise data from kaggle\n",
    "! mkdir ~/.kaggle\n",
    "! mv kaggle.json ~/.kaggle/\n",
    "! chmod 600 ~/.kaggle/kaggle.json"
   ],
   "metadata": {
    "collapsed": false
   }
  },
  {
   "cell_type": "code",
   "execution_count": null,
   "outputs": [],
   "source": [
    "# Run the following commands to import the datasets from Kaggle\n",
    "\n",
    "# delta\n",
    "! pipenv run kaggle datasets download hilapaz/tiktok-daily-views\n",
    "! mv tiktok-daily-views.zip ../data/tiktok-daily-views.zip\n",
    "! unzip ../data/tiktok-daily-views.zip\n",
    "! mv daily_tiktok_views.csv ../data/daily_tiktok_views.csv\n",
    "! rm ../data/tiktok-daily-views.zip\n",
    "\n",
    "# cumulative\n",
    "! pipenv run kaggle datasets download hilapaz/tiktok-followers\n",
    "! mv tiktok-followers.zip ../data/tiktok-followers.zip\n",
    "! unzip ../data/tiktok-followers.zip\n",
    "! mv followers.csv ../data/followers.csv\n",
    "! rm ../data/tiktok-followers.zip\n",
    "\n",
    "# events\n",
    "! pipenv run kaggle datasets download hilapaz/tiktokevents\n",
    "! mv tiktokevents.zip ../data/tiktokevents.zip\n",
    "! unzip ../data/tiktokevents.zip\n",
    "! mv tiktok_events.csv ../data/tiktok_events.csv\n",
    "! rm ../data/tiktokevents.zip"
   ],
   "metadata": {
    "collapsed": false
   }
  },
  {
   "cell_type": "markdown",
   "source": [
    "## 1.1 Let's import some packages"
   ],
   "metadata": {
    "collapsed": false
   }
  },
  {
   "cell_type": "code",
   "execution_count": null,
   "outputs": [],
   "source": [
    "import pandas as pd\n",
    "from utilities.plot_ts import plot_series"
   ],
   "metadata": {
    "collapsed": false
   }
  },
  {
   "cell_type": "code",
   "execution_count": null,
   "outputs": [],
   "source": [
    "followers = pd.read_csv('../data/followers.csv')\n",
    "followers['datetime'] = pd.to_datetime(followers['datetime'])\n",
    "followers.set_index('datetime',inplace=True)\n",
    "followers.head(10)"
   ],
   "metadata": {
    "collapsed": false
   }
  },
  {
   "cell_type": "code",
   "execution_count": null,
   "outputs": [],
   "source": [
    "views = pd.read_csv('../data/daily_tiktok_views.csv')\n",
    "views['date'] = pd.to_datetime(views['date'])\n",
    "views.set_index('date',inplace=True)\n",
    "views.head(10)"
   ],
   "metadata": {
    "collapsed": false
   }
  },
  {
   "cell_type": "code",
   "execution_count": null,
   "outputs": [],
   "source": [
    "events = pd.read_csv('../data/tiktok_events.csv')\n",
    "events['datetime'] = pd.to_datetime(events['datetime'])\n",
    "events.set_index('datetime',inplace=True)\n",
    "events.head(10)"
   ],
   "metadata": {
    "collapsed": false
   }
  },
  {
   "cell_type": "code",
   "execution_count": null,
   "outputs": [],
   "source": [
    "plot_series(followers['followers'].loc['2022-01'], fig_length=2)\n",
    "del followers"
   ],
   "metadata": {
    "collapsed": false
   }
  },
  {
   "cell_type": "code",
   "execution_count": null,
   "outputs": [],
   "source": [
    "plot_series(views['views'].loc['2022'], fig_length=2)\n",
    "del views"
   ],
   "metadata": {
    "collapsed": false
   }
  },
  {
   "cell_type": "code",
   "execution_count": null,
   "outputs": [],
   "source": [
    "plot_series(events['views'].loc['2022-01-01'], fig_length=2)\n",
    "del events"
   ],
   "metadata": {
    "collapsed": false
   }
  }
 ],
 "metadata": {
  "kernelspec": {
   "display_name": "Python 3",
   "language": "python",
   "name": "python3"
  },
  "language_info": {
   "codemirror_mode": {
    "name": "ipython",
    "version": 2
   },
   "file_extension": ".py",
   "mimetype": "text/x-python",
   "name": "python",
   "nbconvert_exporter": "python",
   "pygments_lexer": "ipython2",
   "version": "2.7.6"
  }
 },
 "nbformat": 4,
 "nbformat_minor": 0
}
