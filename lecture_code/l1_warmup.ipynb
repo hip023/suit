{
 "cells": [
  {
   "cell_type": "markdown",
   "metadata": {},
   "source": [
    "<img src=\"../assets/headline.png\" alt=\"headline\"></a>\n",
    "\n",
    "## Preprocessing, Lecture 2.1\n",
    "\n",
    "## SUIT: Warmup\n",
    "\n",
    "Lecture 2, November 9th, 2022"
   ]
  },
  {
   "cell_type": "markdown",
   "metadata": {},
   "source": [
    "# 1.0 Setup\n",
    "Let's set up our working environment\n",
    "\n",
    "## 1.0.1\n",
    "Use a pipenv interpreter with python3.9 as described in the README.md file"
   ]
  },
  {
   "cell_type": "markdown",
   "metadata": {},
   "source": [
    "## 1.0.2 Kaggle Authentication\n",
    "\n",
    "1. Go to [Kaggle](https://www.kaggle.com/)\n",
    "\n",
    "2. Click on your profile (upper right icon), then click on \"Your Account\"\n",
    "\n",
    "3. Click on \"Acccount\" in the upper menu\n",
    "<img src=\"../assets/kaggle_profile.png\" alt=\"kaggle_profile\"></a>\n",
    "\n",
    "\n",
    "4. Scroll down to the \"API\" section, and click on \"get api token\".\n",
    "<img src=\"../assets/kaggle_api.png\" alt=\"kaggle_api\"></a>\n",
    "\n",
    "\n",
    "Make sure that the name of the downloaded file is kaggle.json (if it's not - rename it :) )\n",
    "\n",
    "5. Upload the kaggle.json file to the working directory of the exercise folder - and that's it! you're good to go.\n",
    "\n",
    "<img src=\"../assets/kaggle_json.png\" alt=\"kaggle_json\"></a>\n"
   ]
  },
  {
   "cell_type": "code",
   "execution_count": 1,
   "metadata": {},
   "outputs": [
    {
     "name": "stdout",
     "output_type": "stream",
     "text": [
      "mkdir: /Users/hila/.kaggle: File exists\r\n"
     ]
    }
   ],
   "source": [
    "# Run the following cell to collect the first exercise data from kaggle\n",
    "! mkdir ~/.kaggle\n",
    "! mv ../kaggle.json ~/.kaggle/\n",
    "! chmod 600 ~/.kaggle/kaggle.json"
   ]
  },
  {
   "cell_type": "code",
   "execution_count": 2,
   "metadata": {},
   "outputs": [
    {
     "name": "stdout",
     "output_type": "stream",
     "text": [
      "\u001B[32m\u001B[22mCourtesy Notice\u001B[39m\u001B[22m: Pipenv found itself running within a virtual environment, so it will automatically use that environment, instead of creating its own for any project. You can set \u001B[39m\u001B[1mPIPENV_IGNORE_VIRTUALENVS=1\u001B[39m\u001B[22m to force pipenv to ignore that environment and create its own instead. You can set \u001B[39m\u001B[1mPIPENV_VERBOSITY=-1\u001B[39m\u001B[22m to suppress this warning.\r\n",
      "Downloading tiktok-daily-views.zip to /Users/hila/DataspellProjects/suit/lecture_code\r\n",
      "  0%|                                               | 0.00/2.16k [00:00<?, ?B/s]\r\n",
      "100%|██████████████████████████████████████| 2.16k/2.16k [00:00<00:00, 1.85MB/s]\r\n",
      "Archive:  ../data/tiktok-daily-views.zip\r\n",
      "  inflating: daily_tiktok_views.csv  \r\n",
      "\u001B[32m\u001B[22mCourtesy Notice\u001B[39m\u001B[22m: Pipenv found itself running within a virtual environment, so it will automatically use that environment, instead of creating its own for any project. You can set \u001B[39m\u001B[1mPIPENV_IGNORE_VIRTUALENVS=1\u001B[39m\u001B[22m to force pipenv to ignore that environment and create its own instead. You can set \u001B[39m\u001B[1mPIPENV_VERBOSITY=-1\u001B[39m\u001B[22m to suppress this warning.\r\n",
      "Downloading tiktok-followers.zip to /Users/hila/DataspellProjects/suit/lecture_code\r\n",
      "  0%|                                               | 0.00/60.2k [00:00<?, ?B/s]\r\n",
      "100%|██████████████████████████████████████| 60.2k/60.2k [00:00<00:00, 11.6MB/s]\r\n",
      "Archive:  ../data/tiktok-followers.zip\r\n",
      "  inflating: followers.csv           \r\n",
      "\u001B[32m\u001B[22mCourtesy Notice\u001B[39m\u001B[22m: Pipenv found itself running within a virtual environment, so it will automatically use that environment, instead of creating its own for any project. You can set \u001B[39m\u001B[1mPIPENV_IGNORE_VIRTUALENVS=1\u001B[39m\u001B[22m to force pipenv to ignore that environment and create its own instead. You can set \u001B[39m\u001B[1mPIPENV_VERBOSITY=-1\u001B[39m\u001B[22m to suppress this warning.\r\n",
      "Downloading tiktokevents.zip to /Users/hila/DataspellProjects/suit/lecture_code\r\n",
      "100%|██████████████████████████████████████| 2.89M/2.89M [00:00<00:00, 10.7MB/s]\r\n",
      "100%|██████████████████████████████████████| 2.89M/2.89M [00:00<00:00, 10.5MB/s]\r\n",
      "Archive:  ../data/tiktokevents.zip\r\n",
      "  inflating: tiktok_events.csv       \r\n"
     ]
    }
   ],
   "source": [
    "# Run the following commands to import the datasets from Kaggle\n",
    "\n",
    "# delta\n",
    "! pipenv run kaggle datasets download hilapaz/tiktok-daily-views\n",
    "! mv tiktok-daily-views.zip ../data/tiktok-daily-views.zip\n",
    "! unzip ../data/tiktok-daily-views.zip\n",
    "! mv daily_tiktok_views.csv ../data/daily_tiktok_views.csv\n",
    "! rm ../data/tiktok-daily-views.zip\n",
    "\n",
    "# cumulative\n",
    "! pipenv run kaggle datasets download hilapaz/tiktok-followers\n",
    "! mv tiktok-followers.zip ../data/tiktok-followers.zip\n",
    "! unzip ../data/tiktok-followers.zip\n",
    "! mv followers.csv ../data/followers.csv\n",
    "! rm ../data/tiktok-followers.zip\n",
    "\n",
    "# events\n",
    "! pipenv run kaggle datasets download hilapaz/tiktokevents\n",
    "! mv tiktokevents.zip ../data/tiktokevents.zip\n",
    "! unzip ../data/tiktokevents.zip\n",
    "! mv tiktok_events.csv ../data/tiktok_events.csv\n",
    "! rm ../data/tiktokevents.zip"
   ]
  }
 ],
 "metadata": {
  "kernelspec": {
   "display_name": "Python 3 (ipykernel)",
   "language": "python",
   "name": "python3"
  },
  "language_info": {
   "codemirror_mode": {
    "name": "ipython",
    "version": 3
   },
   "file_extension": ".py",
   "mimetype": "text/x-python",
   "name": "python",
   "nbconvert_exporter": "python",
   "pygments_lexer": "ipython3",
   "version": "3.9.7"
  }
 },
 "nbformat": 4,
 "nbformat_minor": 1
}
