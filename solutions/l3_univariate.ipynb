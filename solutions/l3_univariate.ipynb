{
 "cells": [
  {
   "cell_type": "markdown",
   "source": [
    "<img src=\"../assets/headline.png\" alt=\"headline\"></a>\n",
    "\n",
    "## Preprocessing, Exercise 2.3\n",
    "\n",
    "## SUIT: Univariate Feature Selection\n",
    "\n",
    "Lecture 2, November 9th, 2022"
   ],
   "metadata": {
    "collapsed": false
   }
  },
  {
   "cell_type": "markdown",
   "source": [
    "# 1.0 Setup\n",
    "If you haven't done so already, go to section 1.0 in l1_warmup.ipynb notebook."
   ],
   "metadata": {
    "collapsed": false
   }
  },
  {
   "cell_type": "markdown",
   "source": [
    "## 1.1 Let's import some packages"
   ],
   "metadata": {
    "collapsed": false
   }
  },
  {
   "cell_type": "code",
   "execution_count": 2,
   "outputs": [],
   "source": [
    "import pandas as pd\n",
    "from utilities.self_tests import test_your_notebook"
   ],
   "metadata": {
    "collapsed": false
   }
  },
  {
   "cell_type": "markdown",
   "source": [
    "# 1.2 Explanatory Data Analysis\n",
    "\n",
    "\n",
    "### Can we skip the PHIDS?\n",
    "We can skip the PHID if we saw this data a few minutes ago, but we can never skip set-index!"
   ],
   "metadata": {
    "collapsed": false
   }
  },
  {
   "cell_type": "code",
   "execution_count": 3,
   "outputs": [],
   "source": [
    "# set index\n",
    "events = pd.read_csv('../data/tiktok_events.csv')\n",
    "events['datetime'] = pd.to_datetime(events['datetime'])\n",
    "events.set_index('datetime',inplace=True)"
   ],
   "metadata": {
    "collapsed": false
   }
  },
  {
   "cell_type": "code",
   "execution_count": 4,
   "outputs": [
    {
     "data": {
      "text/plain": "                     views  likes       city          age_group\ndatetime                                                       \n2022-01-01 00:00:00      1      0     rishon              18-21\n2022-01-01 00:00:00      1      0     kadima              13-15\n2022-01-01 00:00:00      1      0  ramat-gan              18-21\n2022-01-01 00:00:00      1      0   tel-aviv  Prefer not to Say\n2022-01-01 00:00:27      1      0   tel-aviv              21-25",
      "text/html": "<div>\n<style scoped>\n    .dataframe tbody tr th:only-of-type {\n        vertical-align: middle;\n    }\n\n    .dataframe tbody tr th {\n        vertical-align: top;\n    }\n\n    .dataframe thead th {\n        text-align: right;\n    }\n</style>\n<table border=\"1\" class=\"dataframe\">\n  <thead>\n    <tr style=\"text-align: right;\">\n      <th></th>\n      <th>views</th>\n      <th>likes</th>\n      <th>city</th>\n      <th>age_group</th>\n    </tr>\n    <tr>\n      <th>datetime</th>\n      <th></th>\n      <th></th>\n      <th></th>\n      <th></th>\n    </tr>\n  </thead>\n  <tbody>\n    <tr>\n      <th>2022-01-01 00:00:00</th>\n      <td>1</td>\n      <td>0</td>\n      <td>rishon</td>\n      <td>18-21</td>\n    </tr>\n    <tr>\n      <th>2022-01-01 00:00:00</th>\n      <td>1</td>\n      <td>0</td>\n      <td>kadima</td>\n      <td>13-15</td>\n    </tr>\n    <tr>\n      <th>2022-01-01 00:00:00</th>\n      <td>1</td>\n      <td>0</td>\n      <td>ramat-gan</td>\n      <td>18-21</td>\n    </tr>\n    <tr>\n      <th>2022-01-01 00:00:00</th>\n      <td>1</td>\n      <td>0</td>\n      <td>tel-aviv</td>\n      <td>Prefer not to Say</td>\n    </tr>\n    <tr>\n      <th>2022-01-01 00:00:27</th>\n      <td>1</td>\n      <td>0</td>\n      <td>tel-aviv</td>\n      <td>21-25</td>\n    </tr>\n  </tbody>\n</table>\n</div>"
     },
     "execution_count": 4,
     "metadata": {},
     "output_type": "execute_result"
    }
   ],
   "source": [
    "# Let's just make sure that this is our right data...\n",
    "events.head()"
   ],
   "metadata": {
    "collapsed": false
   }
  },
  {
   "cell_type": "markdown",
   "source": [
    "# 2.0 Resample, Resample, Resample!"
   ],
   "metadata": {
    "collapsed": false
   }
  },
  {
   "cell_type": "markdown",
   "source": [
    "**{Q} 3 A. What are the maximal views per event in the first day?**"
   ],
   "metadata": {
    "collapsed": false
   }
  },
  {
   "cell_type": "code",
   "execution_count": 5,
   "outputs": [
    {
     "data": {
      "text/plain": "datetime\n2022-01-01    4\n2022-01-02    4\n2022-01-03    4\n2022-01-04    4\n2022-01-05    4\n             ..\n2022-11-03    4\n2022-11-04    4\n2022-11-05    4\n2022-11-06    4\n2022-11-07    4\nFreq: D, Name: views, Length: 311, dtype: int64"
     },
     "execution_count": 5,
     "metadata": {},
     "output_type": "execute_result"
    }
   ],
   "source": [
    "# Hint: Resample gives us some free stats already!\n",
    "# Checkout https://pandas.pydata.org/pandas-docs/stable/reference/resampling.html\n",
    "\n",
    "events.resample('1D').views.max()"
   ],
   "metadata": {
    "collapsed": false
   }
  },
  {
   "cell_type": "code",
   "execution_count": 6,
   "outputs": [],
   "source": [
    "A = 4"
   ],
   "metadata": {
    "collapsed": false
   }
  },
  {
   "cell_type": "markdown",
   "source": [
    "**{Q} 3 B. How many views from Tel Aviv did we get on 2022-01-03?**"
   ],
   "metadata": {
    "collapsed": false
   }
  },
  {
   "cell_type": "code",
   "execution_count": 8,
   "outputs": [
    {
     "data": {
      "text/plain": "            tel_aviv\ndatetime            \n2022-01-01       311\n2022-01-02       340\n2022-01-03       500\n2022-01-04       322\n2022-01-05       425\n...              ...\n2022-11-03      1066\n2022-11-04      1205\n2022-11-05      1381\n2022-11-06      1350\n2022-11-07       913\n\n[311 rows x 1 columns]",
      "text/html": "<div>\n<style scoped>\n    .dataframe tbody tr th:only-of-type {\n        vertical-align: middle;\n    }\n\n    .dataframe tbody tr th {\n        vertical-align: top;\n    }\n\n    .dataframe thead th {\n        text-align: right;\n    }\n</style>\n<table border=\"1\" class=\"dataframe\">\n  <thead>\n    <tr style=\"text-align: right;\">\n      <th></th>\n      <th>tel_aviv</th>\n    </tr>\n    <tr>\n      <th>datetime</th>\n      <th></th>\n    </tr>\n  </thead>\n  <tbody>\n    <tr>\n      <th>2022-01-01</th>\n      <td>311</td>\n    </tr>\n    <tr>\n      <th>2022-01-02</th>\n      <td>340</td>\n    </tr>\n    <tr>\n      <th>2022-01-03</th>\n      <td>500</td>\n    </tr>\n    <tr>\n      <th>2022-01-04</th>\n      <td>322</td>\n    </tr>\n    <tr>\n      <th>2022-01-05</th>\n      <td>425</td>\n    </tr>\n    <tr>\n      <th>...</th>\n      <td>...</td>\n    </tr>\n    <tr>\n      <th>2022-11-03</th>\n      <td>1066</td>\n    </tr>\n    <tr>\n      <th>2022-11-04</th>\n      <td>1205</td>\n    </tr>\n    <tr>\n      <th>2022-11-05</th>\n      <td>1381</td>\n    </tr>\n    <tr>\n      <th>2022-11-06</th>\n      <td>1350</td>\n    </tr>\n    <tr>\n      <th>2022-11-07</th>\n      <td>913</td>\n    </tr>\n  </tbody>\n</table>\n<p>311 rows × 1 columns</p>\n</div>"
     },
     "execution_count": 8,
     "metadata": {},
     "output_type": "execute_result"
    }
   ],
   "source": [
    "events.resample('1D').aggregate(\n",
    "    tel_aviv = (\"city\", lambda x: sum(x==\"tel-aviv\"))\n",
    ")"
   ],
   "metadata": {
    "collapsed": false
   }
  },
  {
   "cell_type": "code",
   "execution_count": 10,
   "outputs": [],
   "source": [
    "B = 500"
   ],
   "metadata": {
    "collapsed": false
   }
  },
  {
   "cell_type": "markdown",
   "source": [
    "**{Q} 3 C. What is the views share from Tel-Aviv on 2022-01-04? State in int please**\n",
    "note: assume only a single view per row for now."
   ],
   "metadata": {
    "collapsed": false
   }
  },
  {
   "cell_type": "code",
   "execution_count": 11,
   "outputs": [
    {
     "data": {
      "text/plain": "            tel_aviv\ndatetime            \n2022-01-01  0.789340\n2022-01-02  0.656371\n2022-01-03  0.696379\n2022-01-04  0.602996\n2022-01-05  0.704809\n...              ...\n2022-11-03  0.369114\n2022-11-04  0.404906\n2022-11-05  0.414715\n2022-11-06  0.402504\n2022-11-07  0.327123\n\n[311 rows x 1 columns]",
      "text/html": "<div>\n<style scoped>\n    .dataframe tbody tr th:only-of-type {\n        vertical-align: middle;\n    }\n\n    .dataframe tbody tr th {\n        vertical-align: top;\n    }\n\n    .dataframe thead th {\n        text-align: right;\n    }\n</style>\n<table border=\"1\" class=\"dataframe\">\n  <thead>\n    <tr style=\"text-align: right;\">\n      <th></th>\n      <th>tel_aviv</th>\n    </tr>\n    <tr>\n      <th>datetime</th>\n      <th></th>\n    </tr>\n  </thead>\n  <tbody>\n    <tr>\n      <th>2022-01-01</th>\n      <td>0.789340</td>\n    </tr>\n    <tr>\n      <th>2022-01-02</th>\n      <td>0.656371</td>\n    </tr>\n    <tr>\n      <th>2022-01-03</th>\n      <td>0.696379</td>\n    </tr>\n    <tr>\n      <th>2022-01-04</th>\n      <td>0.602996</td>\n    </tr>\n    <tr>\n      <th>2022-01-05</th>\n      <td>0.704809</td>\n    </tr>\n    <tr>\n      <th>...</th>\n      <td>...</td>\n    </tr>\n    <tr>\n      <th>2022-11-03</th>\n      <td>0.369114</td>\n    </tr>\n    <tr>\n      <th>2022-11-04</th>\n      <td>0.404906</td>\n    </tr>\n    <tr>\n      <th>2022-11-05</th>\n      <td>0.414715</td>\n    </tr>\n    <tr>\n      <th>2022-11-06</th>\n      <td>0.402504</td>\n    </tr>\n    <tr>\n      <th>2022-11-07</th>\n      <td>0.327123</td>\n    </tr>\n  </tbody>\n</table>\n<p>311 rows × 1 columns</p>\n</div>"
     },
     "execution_count": 11,
     "metadata": {},
     "output_type": "execute_result"
    }
   ],
   "source": [
    "events.resample('1D').aggregate(\n",
    "    tel_aviv = (\"city\", lambda x: sum(x==\"tel-aviv\") / len(x)),\n",
    ")"
   ],
   "metadata": {
    "collapsed": false
   }
  },
  {
   "cell_type": "code",
   "execution_count": 16,
   "outputs": [],
   "source": [
    "C = 60"
   ],
   "metadata": {
    "collapsed": false
   }
  },
  {
   "cell_type": "markdown",
   "source": [
    "**{Q} 2 D. Combine two reducers: Daily Like Ratio, and Daily Tel-Aviv views share. Which is Larger in 2022-01-01? State 1 for Total, 2 for Tel-Aviv**"
   ],
   "metadata": {
    "collapsed": false
   }
  },
  {
   "cell_type": "code",
   "execution_count": 17,
   "outputs": [
    {
     "data": {
      "text/plain": "            like_ratio  tel_aviv\ndatetime                        \n2022-01-01    0.164975  0.789340\n2022-01-02    0.160232  0.656371\n2022-01-03    0.165738  0.696379\n2022-01-04    0.127341  0.602996\n2022-01-05    0.157546  0.704809\n...                ...       ...\n2022-11-03    0.153393  0.369114\n2022-11-04    0.125000  0.404906\n2022-11-05    0.157658  0.414715\n2022-11-06    0.144007  0.402504\n2022-11-07    0.131852  0.327123\n\n[311 rows x 2 columns]",
      "text/html": "<div>\n<style scoped>\n    .dataframe tbody tr th:only-of-type {\n        vertical-align: middle;\n    }\n\n    .dataframe tbody tr th {\n        vertical-align: top;\n    }\n\n    .dataframe thead th {\n        text-align: right;\n    }\n</style>\n<table border=\"1\" class=\"dataframe\">\n  <thead>\n    <tr style=\"text-align: right;\">\n      <th></th>\n      <th>like_ratio</th>\n      <th>tel_aviv</th>\n    </tr>\n    <tr>\n      <th>datetime</th>\n      <th></th>\n      <th></th>\n    </tr>\n  </thead>\n  <tbody>\n    <tr>\n      <th>2022-01-01</th>\n      <td>0.164975</td>\n      <td>0.789340</td>\n    </tr>\n    <tr>\n      <th>2022-01-02</th>\n      <td>0.160232</td>\n      <td>0.656371</td>\n    </tr>\n    <tr>\n      <th>2022-01-03</th>\n      <td>0.165738</td>\n      <td>0.696379</td>\n    </tr>\n    <tr>\n      <th>2022-01-04</th>\n      <td>0.127341</td>\n      <td>0.602996</td>\n    </tr>\n    <tr>\n      <th>2022-01-05</th>\n      <td>0.157546</td>\n      <td>0.704809</td>\n    </tr>\n    <tr>\n      <th>...</th>\n      <td>...</td>\n      <td>...</td>\n    </tr>\n    <tr>\n      <th>2022-11-03</th>\n      <td>0.153393</td>\n      <td>0.369114</td>\n    </tr>\n    <tr>\n      <th>2022-11-04</th>\n      <td>0.125000</td>\n      <td>0.404906</td>\n    </tr>\n    <tr>\n      <th>2022-11-05</th>\n      <td>0.157658</td>\n      <td>0.414715</td>\n    </tr>\n    <tr>\n      <th>2022-11-06</th>\n      <td>0.144007</td>\n      <td>0.402504</td>\n    </tr>\n    <tr>\n      <th>2022-11-07</th>\n      <td>0.131852</td>\n      <td>0.327123</td>\n    </tr>\n  </tbody>\n</table>\n<p>311 rows × 2 columns</p>\n</div>"
     },
     "execution_count": 17,
     "metadata": {},
     "output_type": "execute_result"
    }
   ],
   "source": [
    "events.resample('1D').aggregate(\n",
    "    like_ratio = (\"likes\", lambda x: sum(x)/len(x)),\n",
    "    tel_aviv = (\"city\", lambda x: sum(x==\"tel-aviv\") / len(x))\n",
    ")"
   ],
   "metadata": {
    "collapsed": false
   }
  },
  {
   "cell_type": "code",
   "execution_count": 18,
   "outputs": [],
   "source": [
    "D = 2"
   ],
   "metadata": {
    "collapsed": false
   }
  },
  {
   "cell_type": "markdown",
   "source": [
    "**{Q} 2 E. How many likes did we get from Tel-Aviv on 2022-01-05?**"
   ],
   "metadata": {
    "collapsed": false
   }
  },
  {
   "cell_type": "code",
   "execution_count": 22,
   "outputs": [
    {
     "data": {
      "text/plain": "datetime\n2022-01-01     48\n2022-01-02     55\n2022-01-03     94\n2022-01-04     44\n2022-01-05     69\n             ... \n2022-11-03    191\n2022-11-04    170\n2022-11-05    240\n2022-11-06    238\n2022-11-07    139\nFreq: D, Length: 311, dtype: int64"
     },
     "execution_count": 22,
     "metadata": {},
     "output_type": "execute_result"
    }
   ],
   "source": [
    "events.resample('1D').apply(lambda df: df[df['city']=='tel-aviv'].likes.sum())"
   ],
   "metadata": {
    "collapsed": false
   }
  },
  {
   "cell_type": "code",
   "execution_count": 23,
   "outputs": [],
   "source": [
    "E = 69"
   ],
   "metadata": {
    "collapsed": false
   }
  },
  {
   "cell_type": "markdown",
   "source": [
    "**{Q} 2 F. Repeat E with external lambda. How many likes did we get from Tel-Aviv on 2022-01-05?**"
   ],
   "metadata": {
    "collapsed": false
   }
  },
  {
   "cell_type": "code",
   "execution_count": 24,
   "outputs": [
    {
     "data": {
      "text/plain": "datetime\n2022-01-01     48\n2022-01-02     55\n2022-01-03     94\n2022-01-04     44\n2022-01-05     69\n             ... \n2022-11-03    191\n2022-11-04    170\n2022-11-05    240\n2022-11-06    238\n2022-11-07    139\nFreq: D, Length: 311, dtype: int64"
     },
     "execution_count": 24,
     "metadata": {},
     "output_type": "execute_result"
    }
   ],
   "source": [
    "def get_tlv_likes(df: pd.DataFrame) -> int:\n",
    "    tel_aviv = df[df['city'] == 'tel-aviv']\n",
    "    likes = tel_aviv['likes'].sum()\n",
    "    return likes\n",
    "\n",
    "events.resample('1D').apply(get_tlv_likes)"
   ],
   "metadata": {
    "collapsed": false
   }
  },
  {
   "cell_type": "code",
   "execution_count": 25,
   "outputs": [],
   "source": [
    "F = 69"
   ],
   "metadata": {
    "collapsed": false
   }
  },
  {
   "cell_type": "markdown",
   "source": [
    "# 3. Datetime Features\n",
    "\n",
    "We know from last week that seasonal features may become handy!\n",
    "\n",
    "<img src=\"../assets/resampler_index.png\" alt=\"resampler_index\"></a>\n"
   ],
   "metadata": {
    "collapsed": false
   }
  },
  {
   "cell_type": "markdown",
   "source": [
    "**{Q} 2 G. Add features of day-of-week, week and month to Q4(D). What is the day-of-week of 2022-01-01?(state integer)**"
   ],
   "metadata": {
    "collapsed": false
   }
  },
  {
   "cell_type": "code",
   "execution_count": 27,
   "outputs": [
    {
     "data": {
      "text/plain": "            likes_ratio  tel_aviv  dow  week  month\ndatetime                                           \n2022-01-01     0.164975  0.789340    6    52      1\n2022-01-02     0.160232  0.656371    7    52      1\n2022-01-03     0.165738  0.696379    1     1      1\n2022-01-04     0.127341  0.602996    2     1      1\n2022-01-05     0.157546  0.704809    3     1      1\n...                 ...       ...  ...   ...    ...\n2022-11-03     0.153393  0.369114    4    44     11\n2022-11-04     0.125000  0.404906    5    44     11\n2022-11-05     0.157658  0.414715    6    44     11\n2022-11-06     0.144007  0.402504    7    44     11\n2022-11-07     0.131852  0.327123    1    45     11\n\n[311 rows x 5 columns]",
      "text/html": "<div>\n<style scoped>\n    .dataframe tbody tr th:only-of-type {\n        vertical-align: middle;\n    }\n\n    .dataframe tbody tr th {\n        vertical-align: top;\n    }\n\n    .dataframe thead th {\n        text-align: right;\n    }\n</style>\n<table border=\"1\" class=\"dataframe\">\n  <thead>\n    <tr style=\"text-align: right;\">\n      <th></th>\n      <th>likes_ratio</th>\n      <th>tel_aviv</th>\n      <th>dow</th>\n      <th>week</th>\n      <th>month</th>\n    </tr>\n    <tr>\n      <th>datetime</th>\n      <th></th>\n      <th></th>\n      <th></th>\n      <th></th>\n      <th></th>\n    </tr>\n  </thead>\n  <tbody>\n    <tr>\n      <th>2022-01-01</th>\n      <td>0.164975</td>\n      <td>0.789340</td>\n      <td>6</td>\n      <td>52</td>\n      <td>1</td>\n    </tr>\n    <tr>\n      <th>2022-01-02</th>\n      <td>0.160232</td>\n      <td>0.656371</td>\n      <td>7</td>\n      <td>52</td>\n      <td>1</td>\n    </tr>\n    <tr>\n      <th>2022-01-03</th>\n      <td>0.165738</td>\n      <td>0.696379</td>\n      <td>1</td>\n      <td>1</td>\n      <td>1</td>\n    </tr>\n    <tr>\n      <th>2022-01-04</th>\n      <td>0.127341</td>\n      <td>0.602996</td>\n      <td>2</td>\n      <td>1</td>\n      <td>1</td>\n    </tr>\n    <tr>\n      <th>2022-01-05</th>\n      <td>0.157546</td>\n      <td>0.704809</td>\n      <td>3</td>\n      <td>1</td>\n      <td>1</td>\n    </tr>\n    <tr>\n      <th>...</th>\n      <td>...</td>\n      <td>...</td>\n      <td>...</td>\n      <td>...</td>\n      <td>...</td>\n    </tr>\n    <tr>\n      <th>2022-11-03</th>\n      <td>0.153393</td>\n      <td>0.369114</td>\n      <td>4</td>\n      <td>44</td>\n      <td>11</td>\n    </tr>\n    <tr>\n      <th>2022-11-04</th>\n      <td>0.125000</td>\n      <td>0.404906</td>\n      <td>5</td>\n      <td>44</td>\n      <td>11</td>\n    </tr>\n    <tr>\n      <th>2022-11-05</th>\n      <td>0.157658</td>\n      <td>0.414715</td>\n      <td>6</td>\n      <td>44</td>\n      <td>11</td>\n    </tr>\n    <tr>\n      <th>2022-11-06</th>\n      <td>0.144007</td>\n      <td>0.402504</td>\n      <td>7</td>\n      <td>44</td>\n      <td>11</td>\n    </tr>\n    <tr>\n      <th>2022-11-07</th>\n      <td>0.131852</td>\n      <td>0.327123</td>\n      <td>1</td>\n      <td>45</td>\n      <td>11</td>\n    </tr>\n  </tbody>\n</table>\n<p>311 rows × 5 columns</p>\n</div>"
     },
     "execution_count": 27,
     "metadata": {},
     "output_type": "execute_result"
    }
   ],
   "source": [
    "d_resampler = events.resample('1D').aggregate(\n",
    "    likes_ratio = (\"likes\", lambda x: sum(x) / len(x)),\n",
    "    tel_aviv = (\"city\", lambda x: sum(x==\"tel-aviv\") / len(x))\n",
    ")\n",
    "\n",
    "isocal = d_resampler.index.isocalendar()\n",
    "\n",
    "d_resampler['dow'] = isocal.day\n",
    "d_resampler['week'] = isocal.week\n",
    "d_resampler['month'] = d_resampler.index.month\n",
    "\n",
    "d_resampler"
   ],
   "metadata": {
    "collapsed": false
   }
  },
  {
   "cell_type": "code",
   "execution_count": 28,
   "outputs": [],
   "source": [
    "G = 6"
   ],
   "metadata": {
    "collapsed": false
   }
  },
  {
   "cell_type": "code",
   "execution_count": 29,
   "outputs": [],
   "source": [
    "# cleanup\n",
    "del events"
   ],
   "metadata": {
    "collapsed": false
   }
  },
  {
   "cell_type": "code",
   "execution_count": 30,
   "outputs": [
    {
     "name": "stdout",
     "output_type": "stream",
     "text": [
      "You Rockstar! That's an A! Your Final Grade: 100\n",
      "-------------\n",
      "Grade analysis:\n",
      "4 - True\n",
      "500 - True\n",
      "60 - True\n",
      "2 - True\n",
      "69 - True\n",
      "69 - True\n",
      "6 - True\n"
     ]
    }
   ],
   "source": [
    "# Run this code block to get your grade!\n",
    "NOTEBOOK_CODE = \"E3\"\n",
    "test_your_notebook(NOTEBOOK_CODE, A, B, C, D, E, F, G)"
   ],
   "metadata": {
    "collapsed": false
   }
  }
 ],
 "metadata": {
  "kernelspec": {
   "display_name": "Python 3",
   "language": "python",
   "name": "python3"
  },
  "language_info": {
   "codemirror_mode": {
    "name": "ipython",
    "version": 2
   },
   "file_extension": ".py",
   "mimetype": "text/x-python",
   "name": "python",
   "nbconvert_exporter": "python",
   "pygments_lexer": "ipython2",
   "version": "2.7.6"
  }
 },
 "nbformat": 4,
 "nbformat_minor": 0
}
