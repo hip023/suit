{
 "cells": [
  {
   "cell_type": "markdown",
   "source": [
    "<img src=\"../assets/headline.png\" alt=\"headline\"></a>\n",
    "\n",
    "## Preprocessing, Exercise 2\n",
    "\n",
    "## SUIT: Sampling\n",
    "\n",
    "Lecture 2, November 9th, 2022"
   ],
   "metadata": {
    "collapsed": false
   }
  },
  {
   "cell_type": "markdown",
   "source": [
    "# 1.0 Setup\n",
    "If you haven't done so already, go to section 1.0 in l1_warmup.ipynb notebook.\n",
    "<img src=\"../assets/l1_warmup.png\" alt=\"setup\" width=500 border=\"1\"></a>\n"
   ],
   "metadata": {
    "collapsed": false
   }
  },
  {
   "cell_type": "markdown",
   "source": [
    "### 1.0.2 Get 2nd Dataset"
   ],
   "metadata": {
    "collapsed": false
   }
  },
  {
   "cell_type": "code",
   "execution_count": null,
   "outputs": [],
   "source": [
    "# Get followers dataset\n",
    "! pipenv run kaggle datasets download hilapaz/tiktok-followers\n",
    "! mv tiktok-followers.zip ../data/tiktok-followers.zip\n",
    "! unzip ../data/tiktok-followers.zip\n",
    "! mv followers.csv ../data/followers.csv\n",
    "! rm ../data/tiktok-followers.zip"
   ],
   "metadata": {
    "collapsed": false
   }
  },
  {
   "cell_type": "markdown",
   "source": [
    "## 1.1 Let's import some packages"
   ],
   "metadata": {
    "collapsed": false
   }
  },
  {
   "cell_type": "code",
   "execution_count": null,
   "outputs": [],
   "source": [
    "import pandas as pd\n",
    "import matplotlib.pyplot as plt\n",
    "\n",
    "from utilities.plot_ts import plot_series\n",
    "from utilities.self_tests import test_your_notebook"
   ],
   "metadata": {
    "collapsed": false
   }
  },
  {
   "cell_type": "markdown",
   "source": [
    "# 1.2 Explanatory Data Analysis\n",
    "\n",
    "\n",
    "### Time for PHIDS!"
   ],
   "metadata": {
    "collapsed": false
   }
  },
  {
   "cell_type": "code",
   "execution_count": null,
   "outputs": [],
   "source": [
    "followers = pd.read_csv('../data/followers.csv')\n",
    "\n",
    "# complete the head method with 10 samples\n",
    "followers.head(10)"
   ],
   "metadata": {
    "collapsed": false
   }
  },
  {
   "cell_type": "code",
   "execution_count": null,
   "outputs": [],
   "source": [
    "# Set index\n",
    "followers['datetime'] = pd.to_datetime(followers['datetime'])\n",
    "followers.set_index('datetime', inplace=True)"
   ],
   "metadata": {
    "collapsed": false
   }
  },
  {
   "cell_type": "code",
   "execution_count": null,
   "outputs": [],
   "source": [
    "# what is changed?\n",
    "followers.head()"
   ],
   "metadata": {
    "collapsed": false
   }
  },
  {
   "cell_type": "markdown",
   "source": [
    "**{Q} 2 A. How many non-null values do we have in our data?**"
   ],
   "metadata": {
    "collapsed": false
   }
  },
  {
   "cell_type": "code",
   "execution_count": null,
   "outputs": [],
   "source": [
    "# use .info to see that quickly\n",
    "A = 13607\n",
    "\n",
    "followers.info()"
   ],
   "metadata": {
    "collapsed": false
   }
  },
  {
   "cell_type": "code",
   "execution_count": null,
   "outputs": [],
   "source": [
    "# Describe the followers dataset\n",
    "followers.describe()"
   ],
   "metadata": {
    "collapsed": false
   }
  },
  {
   "cell_type": "code",
   "execution_count": null,
   "outputs": [],
   "source": [
    "# Plot the first 1000 rows. Is this too noisy?\n",
    "plot_series(followers.loc['2022-01']['followers'])"
   ],
   "metadata": {
    "collapsed": false
   }
  },
  {
   "cell_type": "markdown",
   "source": [
    "# 2.1 DownSampling Cumulative Data\n",
    "\n",
    "<img src=\"../assets/downsampling.png\" alt=\"downsampling\"></a>\n",
    "\n",
    "### Use .asfreq to downsample the data to daily-based frequency\n",
    "\n",
    "daily_followers = followers.asfreq('1D')\n",
    "\n",
    "### Just a thought: Can you downsample your data to 1.5 days?\n"
   ],
   "metadata": {
    "collapsed": false
   }
  },
  {
   "cell_type": "markdown",
   "source": [
    "**{Q} 2 B. How many rows do we have after downsampling to 1D?**"
   ],
   "metadata": {
    "collapsed": false
   }
  },
  {
   "cell_type": "code",
   "execution_count": null,
   "outputs": [],
   "source": [
    "# Resample to 1D with .asfreq\n",
    "import numpy as np\n",
    "B = 311\n",
    "followers_agg = followers.asfreq('1D').ffill()\n",
    "followers_agg"
   ],
   "metadata": {
    "collapsed": false
   }
  },
  {
   "cell_type": "code",
   "execution_count": null,
   "outputs": [],
   "source": [
    "# Plot the first 1000 rows. Is this too noisy?\n",
    "plot_series(followers_agg.loc['2022-01']['followers'])"
   ],
   "metadata": {
    "collapsed": false
   }
  },
  {
   "cell_type": "code",
   "execution_count": null,
   "outputs": [],
   "source": [
    "# Let's delete followers for the sake of our memory\n",
    "del followers"
   ],
   "metadata": {
    "collapsed": false
   }
  },
  {
   "cell_type": "markdown",
   "source": [
    "# 2.2 Resampling Events"
   ],
   "metadata": {
    "collapsed": false
   }
  },
  {
   "cell_type": "code",
   "execution_count": null,
   "outputs": [],
   "source": [
    "! pipenv run kaggle datasets download hilapaz/tiktokevents\n",
    "! mv tiktokevents.zip ../data/tiktokevents.zip\n",
    "! unzip ../data/tiktokevents.zip\n",
    "! mv tiktok_events.csv ../data/tiktok_events.csv\n",
    "! rm ../data/tiktokevents.zip"
   ],
   "metadata": {
    "collapsed": false
   }
  },
  {
   "cell_type": "code",
   "execution_count": null,
   "outputs": [],
   "source": [
    "events = pd.read_csv('../data/tiktok_events.csv')"
   ],
   "metadata": {
    "collapsed": false
   }
  },
  {
   "cell_type": "code",
   "execution_count": null,
   "outputs": [],
   "source": [
    "# PHIDS as usual\n",
    "# get first 30 rows\n",
    "events.head(30)"
   ],
   "metadata": {
    "collapsed": false
   }
  },
  {
   "cell_type": "code",
   "execution_count": null,
   "outputs": [],
   "source": [
    "# set index\n",
    "events['datetime'] = pd.to_datetime(events['datetime'])\n",
    "events.set_index('datetime', inplace=True)"
   ],
   "metadata": {
    "collapsed": false
   }
  },
  {
   "cell_type": "code",
   "execution_count": null,
   "outputs": [],
   "source": [
    "# are there missing observations?\n",
    "events.info()"
   ],
   "metadata": {
    "collapsed": false
   }
  },
  {
   "cell_type": "code",
   "execution_count": null,
   "outputs": [],
   "source": [
    "# describe the events dataset\n",
    "events.describe()"
   ],
   "metadata": {
    "collapsed": false
   }
  },
  {
   "cell_type": "code",
   "execution_count": null,
   "outputs": [],
   "source": [
    "# Plot likes for the first day?\n",
    "plot_series(events.loc['2022-01-01'].likes, fig_length=3)"
   ],
   "metadata": {
    "collapsed": false
   }
  },
  {
   "cell_type": "markdown",
   "source": [
    "**{Q} 2 C. Is this plot informative? Answer Yes / No**"
   ],
   "metadata": {
    "collapsed": false
   }
  },
  {
   "cell_type": "code",
   "execution_count": null,
   "outputs": [],
   "source": [
    "C = \"No\""
   ],
   "metadata": {
    "collapsed": false
   }
  },
  {
   "cell_type": "markdown",
   "source": [
    "**{Q} 2 D. Try Downsampling for 30 days. are you getting summary statistics? Answer Yes / No**"
   ],
   "metadata": {
    "collapsed": false
   }
  },
  {
   "cell_type": "code",
   "execution_count": null,
   "outputs": [],
   "source": [
    "# events.asfreq('30D')"
   ],
   "metadata": {
    "collapsed": false
   }
  },
  {
   "cell_type": "code",
   "execution_count": null,
   "outputs": [],
   "source": [
    "# Duplicated timestamps are the first of many issues.\n",
    "D = \"No\""
   ],
   "metadata": {
    "collapsed": false
   }
  },
  {
   "cell_type": "markdown",
   "source": [
    "### Groupby Refresher\n",
    "\n",
    "`df.groupby(col).reducer`\n"
   ],
   "metadata": {
    "collapsed": false
   }
  },
  {
   "cell_type": "markdown",
   "source": [
    "**{Q} 2 E. How many likes did Rishon Bring?**"
   ],
   "metadata": {
    "collapsed": false
   }
  },
  {
   "cell_type": "code",
   "execution_count": null,
   "outputs": [],
   "source": [
    "# There are (at least) four ways to do that!\n",
    "events.groupby('city').sum().likes\n",
    "events.groupby('city').likes.sum()\n",
    "events.groupby('city').agg({\"likes\":\"sum\"})\n",
    "events.groupby('city').aggregate(likes=(\"likes\", \"sum\"))"
   ],
   "metadata": {
    "collapsed": false
   }
  },
  {
   "cell_type": "code",
   "execution_count": null,
   "outputs": [],
   "source": [
    "E = 7093"
   ],
   "metadata": {
    "collapsed": false
   }
  },
  {
   "cell_type": "markdown",
   "source": [
    "**{Q} 2 F. How many likes did October bring?**"
   ],
   "metadata": {
    "collapsed": false
   }
  },
  {
   "cell_type": "code",
   "execution_count": null,
   "outputs": [],
   "source": [
    "events.resample('1M').sum()"
   ],
   "metadata": {
    "collapsed": false
   }
  },
  {
   "cell_type": "code",
   "execution_count": null,
   "outputs": [],
   "source": [
    "F = 13209"
   ],
   "metadata": {
    "collapsed": false
   }
  },
  {
   "cell_type": "markdown",
   "source": [
    "**{Q} 2 G. How many likes did 2022-01-03:2022-01-04 bring?**"
   ],
   "metadata": {
    "collapsed": false
   }
  },
  {
   "cell_type": "code",
   "execution_count": null,
   "outputs": [],
   "source": [
    "events.resample('2D').sum()"
   ],
   "metadata": {
    "collapsed": false
   }
  },
  {
   "cell_type": "code",
   "execution_count": null,
   "outputs": [],
   "source": [
    "G = 187"
   ],
   "metadata": {
    "collapsed": false
   }
  },
  {
   "cell_type": "code",
   "execution_count": null,
   "outputs": [],
   "source": [
    "# cleanup\n",
    "del events"
   ],
   "metadata": {
    "collapsed": false
   }
  },
  {
   "cell_type": "code",
   "execution_count": null,
   "outputs": [],
   "source": [
    "# Run this code block to get your grade!\n",
    "NOTEBOOK_CODE = \"E2\"\n",
    "test_your_notebook(NOTEBOOK_CODE, A, B, C, D, E, F, G)"
   ],
   "metadata": {
    "collapsed": false
   }
  }
 ],
 "metadata": {
  "kernelspec": {
   "display_name": "Python 3",
   "language": "python",
   "name": "python3"
  },
  "language_info": {
   "codemirror_mode": {
    "name": "ipython",
    "version": 2
   },
   "file_extension": ".py",
   "mimetype": "text/x-python",
   "name": "python",
   "nbconvert_exporter": "python",
   "pygments_lexer": "ipython2",
   "version": "2.7.6"
  }
 },
 "nbformat": 4,
 "nbformat_minor": 0
}
