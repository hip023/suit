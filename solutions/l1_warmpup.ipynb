{
 "cells": [
  {
   "cell_type": "markdown",
   "source": [
    "<img src=\"../assets/headline.png\" alt=\"headline\"></a>\n",
    "\n",
    "## Preprocessing, Exercise 1 (With Hila)\n",
    "\n",
    "## Warmpup\n",
    "\n",
    "Lecture 2, November 9th, 2022"
   ],
   "metadata": {
    "collapsed": false
   }
  },
  {
   "cell_type": "markdown",
   "source": [
    "# 1.0 Setup\n",
    "Let's set up our working environment\n",
    "\n",
    "## 1.0.1\n",
    "Use a pipenv interpreter with python3.9 as described in the README.md file"
   ],
   "metadata": {
    "collapsed": false
   }
  },
  {
   "cell_type": "markdown",
   "source": [
    "## 1.0.2 Kaggle Authentication\n",
    "\n",
    "1. Go to [Kaggle](https://www.kaggle.com/)\n",
    "\n",
    "2. Click on your profile (upper right icon), then click on \"Your Account\"\n",
    "\n",
    "3. Click on \"Acccount\" in the upper menu\n",
    "<img src=\"../assets/kaggle_profile.png\" alt=\"kaggle_profile\"></a>\n",
    "\n",
    "\n",
    "4. Scroll down to the \"API\" section, and click on \"get api token\".\n",
    "<img src=\"../assets/kaggle_api.png\" alt=\"kaggle_api\"></a>\n",
    "\n",
    "\n",
    "Make sure that the name of the downloaded file is kaggle.json (if it's not - rename it :) )\n",
    "\n",
    "5. Upload the kaggle.json file to the working directory of the exercise folder - and that's it! you're good to go.\n",
    "\n",
    "<img src=\"../assets/kaggle_json.png\" alt=\"kaggle_json\"></a>\n"
   ],
   "metadata": {
    "collapsed": false
   }
  },
  {
   "cell_type": "code",
   "execution_count": null,
   "outputs": [],
   "source": [
    "# Run the following cell to place kaggle authentication\n",
    "! mkdir ~/.kaggle\n",
    "! mv kaggle.json ~/.kaggle/\n",
    "! chmod 600 ~/.kaggle/kaggle.json"
   ],
   "metadata": {
    "collapsed": false
   }
  },
  {
   "cell_type": "code",
   "execution_count": null,
   "outputs": [],
   "source": [
    "# Run the following commands to import the datasets from Kaggle\n",
    "\n",
    "# delta\n",
    "! pipenv run kaggle datasets download hilapaz/tiktok-daily-views\n",
    "! mv tiktok-daily-views.zip ../data/tiktok-daily-views.zip\n",
    "! unzip ../data/tiktok-daily-views.zip\n",
    "! mv daily_tiktok_views.csv ../data/daily_tiktok_views.csv\n",
    "! rm ../data/tiktok-daily-views.zip\n",
    "\n",
    "# cumulative\n",
    "! pipenv run kaggle datasets download hilapaz/tiktok-followers\n",
    "! mv tiktok-followers.zip ../data/tiktok-followers.zip\n",
    "! unzip ../data/tiktok-followers.zip\n",
    "! mv followers.csv ../data/followers.csv\n",
    "! rm ../data/tiktok-followers.zip\n",
    "\n",
    "# events\n",
    "! pipenv run kaggle datasets download hilapaz/tiktokevents\n",
    "! mv tiktokevents.zip ../data/tiktokevents.zip\n",
    "! unzip ../data/tiktokevents.zip\n",
    "! mv tiktok_events.csv ../data/tiktok_events.csv\n",
    "! rm ../data/tiktokevents.zip"
   ],
   "metadata": {
    "collapsed": false
   }
  },
  {
   "cell_type": "markdown",
   "source": [
    "## 1.1 Let's import some packages"
   ],
   "metadata": {
    "collapsed": false
   }
  },
  {
   "cell_type": "code",
   "execution_count": null,
   "outputs": [],
   "source": [
    "import pandas as pd\n",
    "\n",
    "from utilities.plot_ts import plot_series\n",
    "from utilities.self_tests import test_your_notebook"
   ],
   "metadata": {
    "collapsed": false
   }
  },
  {
   "cell_type": "markdown",
   "source": [
    "# 1.2 Explanatory Data Analysis\n",
    "\n",
    "<img src=\"../assets/plot_series.png\" alt=\"Plot\"></a>\n",
    "\n",
    "\n",
    "### Time for PHIDS!\n",
    "\n",
    "1.   plot\n",
    "\n",
    "\n",
    "\n",
    "> `dataframe.column.plot()`\n",
    "\n",
    "\n",
    "2.   head\n",
    "\n",
    "\n",
    "\n",
    "> `dataframe.head()`\n",
    "\n",
    "\n",
    "3.   info\n",
    "\n",
    "> `dataframe.info()`\n",
    "\n",
    "4.   describe\n",
    "\n",
    "> `dataframe.describe()`\n",
    "\n",
    "5.   set index\n",
    "\n",
    "> `dataframe.set_index(\"column\")`\n"
   ],
   "metadata": {
    "collapsed": false
   }
  },
  {
   "cell_type": "code",
   "execution_count": null,
   "outputs": [],
   "source": [
    "# You'll have PHIDS warmups for every assignment\n",
    "\n",
    "views = pd.read_csv('../data/daily_tiktok_views.csv')\n",
    "\n",
    "# complete the head method with 7 samples\n",
    "views.head(7)"
   ],
   "metadata": {
    "collapsed": false
   }
  },
  {
   "cell_type": "markdown",
   "source": [
    "### Time for the fun part: Quizzes\n",
    "\n",
    "<img src=\"https://ckhconsulting.com/wp-content/uploads/2021/07/pencil-test.jpeg\" alt=\"Quiz\" width=\"250\" border=\"0\"></a>\n",
    "\n",
    "Tonight's notebooks include separated quiz questions. Answer them as you work, and get feedback in the end of the notebook.\n",
    "\n",
    "**{Q} 1 A. What is the length of the views data?**"
   ],
   "metadata": {
    "collapsed": false
   }
  },
  {
   "cell_type": "code",
   "execution_count": null,
   "outputs": [],
   "source": [
    "A = len(views)\n",
    "A"
   ],
   "metadata": {
    "collapsed": false
   }
  },
  {
   "cell_type": "code",
   "execution_count": null,
   "outputs": [],
   "source": [
    "# Set index by the date column\n",
    "views['date'] = pd.to_datetime(views['date'])\n",
    "views.set_index(\"date\", inplace=True)"
   ],
   "metadata": {
    "collapsed": false
   }
  },
  {
   "cell_type": "code",
   "execution_count": null,
   "outputs": [],
   "source": [
    "# check your head again! what is changed?\n",
    "views.head()"
   ],
   "metadata": {
    "collapsed": false
   }
  },
  {
   "cell_type": "markdown",
   "source": [
    "Our data's index is a pd.DateTime object, we can therefore filter by ranges of time.\n",
    "\n",
    "Use:\n",
    "\n",
    "\n",
    "```\n",
    "df.loc['2015']\n",
    "```\n",
    "\n",
    "To obtain all observations in 2015.\n",
    "\n",
    "Use:\n",
    "\n",
    "\n",
    "\n",
    "```\n",
    "df.loc['2022-02-01':'2022-02-02']\n",
    "```\n",
    "To filter by a range of dates."
   ],
   "metadata": {
    "collapsed": false
   }
  },
  {
   "cell_type": "code",
   "execution_count": null,
   "outputs": [],
   "source": [
    "# Filter observations from January\n",
    "filtered_rows = views.loc['2022-01']\n",
    "\n",
    "B = len(filtered_rows)\n",
    "print(\"Observations from January: \",B)\n",
    "filtered_rows"
   ],
   "metadata": {
    "collapsed": false
   }
  },
  {
   "cell_type": "code",
   "execution_count": null,
   "outputs": [],
   "source": [
    "# Filter observations from January 3rd to March 10\n",
    "filtered_rows = views.loc['2022-01-03':'2022-03-10']\n",
    "\n",
    "C = len(filtered_rows)\n",
    "print(\"Observations Count: \",C)"
   ],
   "metadata": {
    "collapsed": false
   }
  },
  {
   "cell_type": "code",
   "execution_count": null,
   "outputs": [],
   "source": [
    "# Get the info of the data\n",
    "views.info()\n",
    "\n",
    "# What is the dtype of the likes column?\n",
    "C = \"int64\""
   ],
   "metadata": {
    "collapsed": false
   }
  },
  {
   "cell_type": "code",
   "execution_count": null,
   "outputs": [],
   "source": [
    "# Use the describe method.\n",
    "views.describe()"
   ],
   "metadata": {
    "collapsed": false
   }
  },
  {
   "cell_type": "code",
   "execution_count": null,
   "outputs": [],
   "source": [
    "# What is the maximal likes per day? (in round numbers please)\n",
    "\n",
    "D = 492\n",
    "D"
   ],
   "metadata": {
    "collapsed": false
   }
  },
  {
   "cell_type": "markdown",
   "source": [
    "> Use the method\n",
    "\n",
    "\n",
    "\n",
    "```\n",
    "plot_series(time_series, value_series)\n",
    "```\n",
    "\n",
    "> For a nicer plot\n"
   ],
   "metadata": {
    "collapsed": false
   }
  },
  {
   "cell_type": "code",
   "execution_count": null,
   "outputs": [],
   "source": [
    "# Plot the views column with .plot\n",
    "views.plot()"
   ],
   "metadata": {
    "collapsed": false
   }
  },
  {
   "cell_type": "code",
   "execution_count": null,
   "outputs": [],
   "source": [
    "# Use plot_series for a nicer view\n",
    "plot_series(views['views'], views['likes'])"
   ],
   "metadata": {
    "collapsed": false
   }
  },
  {
   "cell_type": "code",
   "execution_count": null,
   "outputs": [],
   "source": [
    "# Run this code block to get your grade!\n",
    "NOTEBOOK_CODE = \"E1\"\n",
    "test_your_notebook(NOTEBOOK_CODE, A, B, C, D)"
   ],
   "metadata": {
    "collapsed": false
   }
  }
 ],
 "metadata": {
  "kernelspec": {
   "display_name": "Python 3",
   "language": "python",
   "name": "python3"
  },
  "language_info": {
   "codemirror_mode": {
    "name": "ipython",
    "version": 2
   },
   "file_extension": ".py",
   "mimetype": "text/x-python",
   "name": "python",
   "nbconvert_exporter": "python",
   "pygments_lexer": "ipython2",
   "version": "2.7.6"
  }
 },
 "nbformat": 4,
 "nbformat_minor": 0
}
