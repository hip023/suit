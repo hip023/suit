{
 "cells": [
  {
   "cell_type": "markdown",
   "source": [
    "<img src=\"../assets/headline.png\" alt=\"headline\"></a>\n",
    "\n",
    "## Preprocessing, Exercise 2.5\n",
    "\n",
    "## SUIT: Transformation\n",
    "\n",
    "Lecture 2, November 9th, 2022"
   ],
   "metadata": {
    "collapsed": false
   }
  },
  {
   "cell_type": "markdown",
   "source": [
    "# 1.0 Setup\n",
    "If you haven't done so already, go to section 1.0 in l1_warmup.ipynb notebook."
   ],
   "metadata": {
    "collapsed": false
   }
  },
  {
   "cell_type": "markdown",
   "source": [
    "## 1.1 Let's import some packages"
   ],
   "metadata": {
    "collapsed": false
   }
  },
  {
   "cell_type": "code",
   "execution_count": null,
   "outputs": [],
   "source": [
    "from statsmodels.tsa.stattools import adfuller\n",
    "import pandas as pd\n",
    "from utilities.self_tests import test_your_notebook\n",
    "from utilities.plot_ts import plot_series, plot_two_axis"
   ],
   "metadata": {
    "collapsed": false
   }
  },
  {
   "cell_type": "markdown",
   "source": [
    "# 1.2 Explanatory Data Analysis\n",
    "\n",
    "\n",
    "### Can we skip the PHIDS?\n",
    "We can skip the PHID if we saw this data a few minutes ago, but we can never skip set-index!"
   ],
   "metadata": {
    "collapsed": false
   }
  },
  {
   "cell_type": "code",
   "execution_count": null,
   "outputs": [],
   "source": [
    "# read the file and set index\n"
   ],
   "metadata": {
    "collapsed": false
   }
  },
  {
   "cell_type": "code",
   "execution_count": null,
   "outputs": [],
   "source": [
    "# Let's just make sure that this is our right data...\n"
   ],
   "metadata": {
    "collapsed": false
   }
  },
  {
   "cell_type": "markdown",
   "source": [
    "# 2.0 Decreasing Likes Ratio\n",
    "\n",
    "<img src=\"../assets/decrease_in_likes.png\" alt=\"decrease_in_likes\"></a>\n"
   ],
   "metadata": {
    "collapsed": false
   }
  },
  {
   "cell_type": "markdown",
   "source": [
    "**{Q} 5 A. What is the likes ratio from Rishon in 2022-01-06? State in integers please, assume single view per row**"
   ],
   "metadata": {
    "collapsed": false
   }
  },
  {
   "cell_type": "code",
   "execution_count": null,
   "outputs": [],
   "source": [
    "groupers = _\n",
    "\n",
    "events._"
   ],
   "metadata": {
    "collapsed": false
   }
  },
  {
   "cell_type": "code",
   "execution_count": null,
   "outputs": [],
   "source": [
    "A = 0"
   ],
   "metadata": {
    "collapsed": false
   }
  },
  {
   "cell_type": "markdown",
   "source": [
    "**{Q} 5 B. Plot the likes ratio per city over time. Are they stationary with p_val=1%? State True / False**"
   ],
   "metadata": {
    "collapsed": false
   }
  },
  {
   "cell_type": "code",
   "execution_count": null,
   "outputs": [],
   "source": [
    "groupers = _\n",
    "\n",
    "likes = _\n",
    "\n",
    "for c in likes.columns:\n",
    "    print(f\"likes ratio for {c}\")\n",
    "    adf = _\n",
    "    plot_series(likes[c])"
   ],
   "metadata": {
    "collapsed": false
   }
  },
  {
   "cell_type": "code",
   "execution_count": null,
   "outputs": [],
   "source": [
    "B = _"
   ],
   "metadata": {
    "collapsed": false
   }
  },
  {
   "cell_type": "markdown",
   "source": [
    "**{Q} 3 C. Stationary is met, let's see what is the average share ratio for Kadima? State integer please!**"
   ],
   "metadata": {
    "collapsed": false
   }
  },
  {
   "cell_type": "code",
   "execution_count": null,
   "outputs": [],
   "source": [],
   "metadata": {
    "collapsed": false
   }
  },
  {
   "cell_type": "code",
   "execution_count": null,
   "outputs": [],
   "source": [
    "C = 0"
   ],
   "metadata": {
    "collapsed": false
   }
  },
  {
   "cell_type": "markdown",
   "source": [
    "**{Q} 5 D. Plot the views share per city over week from May. Are they stationary with p_val=1%? State True / False**\n"
   ],
   "metadata": {
    "collapsed": false
   }
  },
  {
   "cell_type": "code",
   "execution_count": null,
   "outputs": [],
   "source": [
    "groupers = _\n",
    "\n",
    "by_date_and_city = _\n",
    "by_date = _\n",
    "\n",
    "views = _\n",
    "\n",
    "for c in views.columns:\n",
    "    print(f\"views share from {c}\")\n",
    "    adf = _\n",
    "\n",
    "    plot_series(views[c])"
   ],
   "metadata": {
    "collapsed": false
   }
  },
  {
   "cell_type": "code",
   "execution_count": null,
   "outputs": [],
   "source": [
    "D = _"
   ],
   "metadata": {
    "collapsed": false
   }
  },
  {
   "cell_type": "markdown",
   "source": [
    "## Ramat-Gan == Simpson Effect ?\n",
    "While Ramat-Gan drives the lowest like ratio, its views share is increasing with time!\n",
    "\n",
    "<img src=\"../assets/simpson.png\" alt=\"simpson\"></a>\n"
   ],
   "metadata": {
    "collapsed": false
   }
  },
  {
   "cell_type": "code",
   "execution_count": null,
   "outputs": [],
   "source": [
    "events['is_ramat_gan'] = (events['city'] == 'ramat-gan').map({True:\"ramat-gan\", False: \"not ramat-gan\"})\n",
    "\n",
    "groupers = [pd.Grouper(freq='1D'),'is_ramat_gan']\n",
    "\n",
    "by_date_and_city = events.groupby(groupers).views.sum()\n",
    "by_date = events.groupby(pd.Grouper(freq='1D')).views.sum()\n",
    "\n",
    "views = (100 * by_date_and_city / by_date).unstack()\n",
    "\n",
    "likes = events.resample('1D').aggregate(likes=(\"likes\", lambda x: 100 *sum(x)/len(x)))\n",
    "\n",
    "plot_two_axis(likes[\"likes\"], views['not ramat-gan'], views['ramat-gan'],titles=[\"Likes Ratio Over Time\", \"Views Share Over time\"], fig_length=4)"
   ],
   "metadata": {
    "collapsed": false
   }
  },
  {
   "cell_type": "code",
   "execution_count": null,
   "outputs": [],
   "source": [
    "del events"
   ],
   "metadata": {
    "collapsed": false
   }
  },
  {
   "cell_type": "code",
   "execution_count": null,
   "outputs": [],
   "source": [
    "# Run this code block to get your grade!\n",
    "NOTEBOOK_CODE = \"E5\"\n",
    "test_your_notebook(NOTEBOOK_CODE, A, B, C, D)"
   ],
   "metadata": {
    "collapsed": false
   }
  }
 ],
 "metadata": {
  "kernelspec": {
   "display_name": "Python 3",
   "language": "python",
   "name": "python3"
  },
  "language_info": {
   "codemirror_mode": {
    "name": "ipython",
    "version": 2
   },
   "file_extension": ".py",
   "mimetype": "text/x-python",
   "name": "python",
   "nbconvert_exporter": "python",
   "pygments_lexer": "ipython2",
   "version": "2.7.6"
  }
 },
 "nbformat": 4,
 "nbformat_minor": 0
}
